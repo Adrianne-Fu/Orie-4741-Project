{
 "cells": [
  {
   "cell_type": "code",
   "execution_count": 5,
   "metadata": {},
   "outputs": [],
   "source": [
    "import numpy as np\n",
    "import pandas as pd\n",
    "import matplotlib.pyplot as plt\n",
    "from sklearn.linear_model import LinearRegression, LassoCV, RidgeCV, Lasso, Ridge, HuberRegressor\n",
    "from sklearn.model_selection import RandomizedSearchCV, GridSearchCV\n",
    "from sklearn.ensemble import GradientBoostingRegressor, RandomForestRegressor\n",
    "from scipy.stats import uniform"
   ]
  },
  {
   "cell_type": "code",
   "execution_count": 6,
   "metadata": {},
   "outputs": [],
   "source": [
    "train_data = pd.read_csv('data/train.csv')\n",
    "test_data = pd.read_csv('data/test.csv')\n",
    "\n",
    "features = ['County', 'State', 'ZHVI_prev', 'ZHVI', 'Year', 'Month', 'UnemploymentRate', '#hospital',\n",
    "       'hospital_rating', 'private_schools_count', 'public_schools_count',\n",
    "       'CPI', 'Interest Rate', 'inc', 'inc_ineql', 'BD', 'highschool', 'migr', 'residt']\n",
    "catFeatures = ['County', 'State']\n",
    "numFeatures = list(set(features) - set(catFeatures))\n",
    "#dropFeatures = list(set(train_data.columns) - set(features) - set(['ZHVI_next']))"
   ]
  },
  {
   "cell_type": "code",
   "execution_count": 7,
   "metadata": {},
   "outputs": [
    {
     "data": {
      "text/plain": [
       "(75071, 641)"
      ]
     },
     "execution_count": 7,
     "metadata": {},
     "output_type": "execute_result"
    }
   ],
   "source": [
    "train_data.shape"
   ]
  },
  {
   "cell_type": "code",
   "execution_count": 8,
   "metadata": {},
   "outputs": [],
   "source": [
    "trainX = train_data.drop('ZHVI_next', axis=1)\n",
    "trainY = train_data['ZHVI_next']\n",
    "\n",
    "testX = test_data.drop('ZHVI_next', axis=1)\n",
    "testY = test_data['ZHVI_next']"
   ]
  },
  {
   "cell_type": "code",
   "execution_count": 9,
   "metadata": {},
   "outputs": [],
   "source": [
    "def MAE(y, pred):\n",
    "    return np.mean( np.abs(y - pred) )\n",
    "\n",
    "def trend_accuracy(test_df, pred):\n",
    "    trend = np.sign(test_df.ZHVI_next - test_df.ZHVI)\n",
    "    trend_pred = np.sign(pred - test_df.ZHVI)\n",
    "\n",
    "    return np.mean(trend == trend_pred)\n",
    "\n",
    "def trend_accuracy2(test_df, pred):\n",
    "    trend = np.sign(test_df.ZHVI_next - test_df.ZHVI)\n",
    "    trend_pred = np.sign(pred - test_df.ZHVI)\n",
    "\n",
    "    return np.mean(trend == trend_pred)"
   ]
  },
  {
   "cell_type": "markdown",
   "metadata": {},
   "source": [
    "trainX = trainX.drop(['ZHVI', 'ZHVI_prev', 'Year', 'Month'], axis=1)\n",
    "testX = testX.drop(['ZHVI', 'ZHVI_prev', 'Year', 'Month'], axis=1)"
   ]
  },
  {
   "cell_type": "code",
   "execution_count": 10,
   "metadata": {},
   "outputs": [
    {
     "data": {
      "text/plain": [
       "(1729.8477253628378, 0.6336849957374254)"
      ]
     },
     "execution_count": 10,
     "metadata": {},
     "output_type": "execute_result"
    }
   ],
   "source": [
    "reg_boost = GradientBoostingRegressor().fit(trainX, trainY)\n",
    "pred_boost = reg_boost.predict(testX)\n",
    "MAE(testY, pred_boost), trend_accuracy(test_data, pred_boost)"
   ]
  },
  {
   "cell_type": "code",
   "execution_count": 19,
   "metadata": {},
   "outputs": [
    {
     "data": {
      "text/plain": [
       "(1154.3519933898317, 0.8427642796248934)"
      ]
     },
     "execution_count": 19,
     "metadata": {},
     "output_type": "execute_result"
    }
   ],
   "source": [
    "importantFeatures = ['ZHVI', 'ZHVI_prev', 'CPI', 'BD', 'UnemploymentRate', 'migr', 'inc_ineql', 'highschool', 'private_schools_count', 'public_schools_count']\n",
    "\n",
    "reg_rf = RandomForestRegressor().fit(trainX[importantFeatures[:3]], trainY)\n",
    "pred_rf = reg_rf.predict(testX[importantFeatures[:3]])\n",
    "MAE(testY, pred_rf), trend_accuracy(test_data, pred_rf)"
   ]
  },
  {
   "cell_type": "code",
   "execution_count": 84,
   "metadata": {},
   "outputs": [
    {
     "data": {
      "text/plain": [
       "626.0922405830456"
      ]
     },
     "execution_count": 84,
     "metadata": {},
     "output_type": "execute_result"
    }
   ],
   "source": [
    "pred_rf_train = reg_rf.predict(trainX[importantFeatures[:3]])\n",
    "MAE(pred_rf_train, trainY)"
   ]
  },
  {
   "cell_type": "code",
   "execution_count": 16,
   "metadata": {},
   "outputs": [
    {
     "name": "stdout",
     "output_type": "stream",
     "text": [
      "ZHVI 0.9697412851691765\n",
      "ZHVI_prev 0.01802985809080746\n",
      "CPI 0.009280741055474082\n",
      "UnemploymentRate 0.0002801095491011944\n",
      "BD 0.00024184014040811775\n",
      "migr 0.0002404864692764865\n",
      "inc_ineql 0.0001700260763233195\n",
      "highschool 0.0001616135108115242\n",
      "State_NJ 0.00014233152738026263\n",
      "private_schools_count 0.00013291399543895275\n",
      "hospital_rating 0.0001094164254449069\n",
      "public_schools_count 0.00010818675782756354\n",
      "residt 9.296878992356678e-05\n",
      "County_Steuben 9.163780943264177e-05\n",
      "inc 8.039820302135934e-05\n",
      "#hospital 7.044690146451414e-05\n",
      "Month 6.383874562588343e-05\n",
      "County_Allegany 4.293121059418682e-05\n",
      "County_Wayne 4.127260816508318e-05\n",
      "County_Weber 3.635816950891061e-05\n"
     ]
    }
   ],
   "source": [
    "zipped = zip(reg_rf.feature_importances_, trainX.columns)\n",
    "feature_ranked = [x for _,x in sorted(zipped, reverse=True)]\n",
    "importance_ranked = sorted(reg_rf.feature_importances_, reverse=True)\n",
    "\n",
    "#important_featuresID = [i for i, e in enumerate(trainX.columns) if e in set(feature_ranked)]\n",
    "\n",
    "for i in range(20):\n",
    "    print(feature_ranked[i], importance_ranked[i])"
   ]
  },
  {
   "cell_type": "code",
   "execution_count": 18,
   "metadata": {},
   "outputs": [
    {
     "data": {
      "text/plain": [
       "Text(0.5, 1.0, 'Random forest model')"
      ]
     },
     "execution_count": 18,
     "metadata": {},
     "output_type": "execute_result"
    },
    {
     "data": {
      "image/png": "[encoded data removed]",
      "text/plain": [
       "<Figure size 432x288 with 1 Axes>"
      ]
     },
     "metadata": {
      "needs_background": "light"
     },
     "output_type": "display_data"
    }
   ],
   "source": [
    "plt.barh(feature_ranked[:10], importance_ranked[:10])\n",
    "plt.xscale('log')\n",
    "plt.gca().invert_yaxis()\n",
    "plt.xlabel('log mean decrease impurity of top features')\n",
    "plt.title('Random forest model')"
   ]
  },
  {
   "cell_type": "code",
   "execution_count": 43,
   "metadata": {},
   "outputs": [
    {
     "data": {
      "image/png": "[encoded data removed]",
      "text/plain": [
       "<Figure size 432x288 with 1 Axes>"
      ]
     },
     "metadata": {
      "needs_background": "light"
     },
     "output_type": "display_data"
    }
   ],
   "source": [
    "(pd.Series(reg_rf.feature_importances_[5:], index=trainX.columns[5:])\n",
    "   .nlargest(6)\n",
    "   .plot(kind='barh').invert_yaxis())"
   ]
  },
  {
   "cell_type": "code",
   "execution_count": 62,
   "metadata": {},
   "outputs": [
    {
     "name": "stdout",
     "output_type": "stream",
     "text": [
      "BD 0.5514973710205116\n",
      "State_CA 0.08859154896545783\n",
      "inc 0.0599698916020484\n",
      "public_schools_count 0.03540452928176979\n",
      "residt 0.030089045119898444\n",
      "State_HI 0.027284565709209636\n",
      "hospital_rating 0.025945579962844346\n",
      "inc_ineql 0.016469377759227258\n",
      "UnemploymentRate 0.01594748292594175\n",
      "migr 0.012498370721051108\n",
      "State_MA 0.012400726680819355\n",
      "State_OR 0.012071315464676696\n",
      "State_WA 0.01062392769116969\n",
      "State_CO 0.010451959669272393\n",
      "State_NJ 0.010339060236328473\n",
      "CPI 0.008420947591436188\n",
      "private_schools_count 0.0071875815551986745\n",
      "State_OK 0.005753210480843342\n",
      "highschool 0.004528058600733676\n",
      "County_Marin 0.004424532338293687\n"
     ]
    }
   ],
   "source": [
    "zipped = zip(reg_boost.feature_importances_, trainX.columns)\n",
    "feature_ranked = [x for _,x in sorted(zipped, reverse=True)]\n",
    "importance_ranked = sorted(reg_boost.feature_importances_, reverse=True)\n",
    "\n",
    "#important_featuresID = [i for i, e in enumerate(trainX.columns) if e in set(feature_ranked)]\n",
    "\n",
    "for i in range(20):\n",
    "    print(feature_ranked[i], importance_ranked[i])"
   ]
  },
  {
   "cell_type": "code",
   "execution_count": 40,
   "metadata": {},
   "outputs": [
    {
     "data": {
      "text/plain": [
       "<BarContainer object of 10 artists>"
      ]
     },
     "execution_count": 40,
     "metadata": {},
     "output_type": "execute_result"
    },
    {
     "data": {
      "image/png": "[encoded data removed]",
      "text/plain": [
       "<Figure size 432x288 with 1 Axes>"
      ]
     },
     "metadata": {
      "needs_background": "light"
     },
     "output_type": "display_data"
    }
   ],
   "source": [
    "plt.bar(feature_ranked[:10], importance_ranked[:10])"
   ]
  },
  {
   "cell_type": "code",
   "execution_count": 14,
   "metadata": {},
   "outputs": [
    {
     "data": {
      "text/plain": [
       "<matplotlib.collections.PathCollection at 0x7fb0f01d3e50>"
      ]
     },
     "execution_count": 14,
     "metadata": {},
     "output_type": "execute_result"
    },
    {
     "data": {
      "image/png": "[encoded data removed]",
      "text/plain": [
       "<Figure size 432x288 with 1 Axes>"
      ]
     },
     "metadata": {
      "needs_background": "light"
     },
     "output_type": "display_data"
    }
   ],
   "source": [
    "plt.scatter(testY, pred_rf)"
   ]
  }
 ],
 "metadata": {
  "interpreter": {
   "hash": "52ead971c622ef34a677d9c0305a4b1b69c452fd955debd4f4081005ee793fba"
  },
  "kernelspec": {
   "display_name": "Python 3.8.8 64-bit ('base': conda)",
   "language": "python",
   "name": "python3"
  },
  "language_info": {
   "codemirror_mode": {
    "name": "ipython",
    "version": 3
   },
   "file_extension": ".py",
   "mimetype": "text/x-python",
   "name": "python",
   "nbconvert_exporter": "python",
   "pygments_lexer": "ipython3",
   "version": "3.8.8"
  },
  "orig_nbformat": 4
 },
 "nbformat": 4,
 "nbformat_minor": 2
}

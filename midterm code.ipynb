{
 "cells": [
  {
   "cell_type": "code",
   "execution_count": 10,
   "id": "78fc25c6",
   "metadata": {},
   "outputs": [],
   "source": [
    "import numpy as np\n",
    "import pandas as pd\n",
    "import matplotlib.pyplot as plt"
   ]
  },
  {
   "cell_type": "code",
   "execution_count": 51,
   "id": "eecd7fa8",
   "metadata": {},
   "outputs": [],
   "source": [
    "# main dataset\n",
    "price = pd.read_csv('price.csv')\n",
    "\n",
    "# feature dataset\n",
    "income = pd.read_csv('income_clean.csv')"
   ]
  },
  {
   "cell_type": "code",
   "execution_count": 43,
   "id": "0bb537bb",
   "metadata": {},
   "outputs": [],
   "source": [
    "# price"
   ]
  },
  {
   "cell_type": "markdown",
   "id": "26b392e0",
   "metadata": {},
   "source": [
    "# Dataset Generation"
   ]
  },
  {
   "cell_type": "code",
   "execution_count": 52,
   "id": "198b56f1",
   "metadata": {},
   "outputs": [],
   "source": [
    "# merge all the features to the price dataset as \"df\"\n",
    "df = pd.merge(price, income, on = ['RegionName','State'])"
   ]
  },
  {
   "cell_type": "code",
   "execution_count": 7,
   "id": "7d39b170",
   "metadata": {
    "collapsed": true
   },
   "outputs": [
    {
     "data": {
      "text/plain": [
       "RegionID      2821\n",
       "SizeRank      2821\n",
       "RegionName    2821\n",
       "RegionType    2821\n",
       "StateName     2821\n",
       "              ... \n",
       "2021-05-31    2819\n",
       "2021-06-30    2820\n",
       "2021-07-31    2821\n",
       "2021-08-31    2821\n",
       "2021-09-30    2821\n",
       "Length: 270, dtype: int64"
      ]
     },
     "execution_count": 7,
     "metadata": {},
     "output_type": "execute_result"
    }
   ],
   "source": [
    "price.count()"
   ]
  },
  {
   "cell_type": "code",
   "execution_count": 12,
   "id": "dac1e4ca",
   "metadata": {},
   "outputs": [
    {
     "data": {
      "text/plain": [
       "RegionID      2722\n",
       "SizeRank      2722\n",
       "RegionName    2722\n",
       "RegionType    2722\n",
       "StateName     2722\n",
       "              ... \n",
       "2015          2722\n",
       "2016          2722\n",
       "2017          2722\n",
       "2018          2722\n",
       "2019          2722\n",
       "Length: 275, dtype: int64"
      ]
     },
     "execution_count": 12,
     "metadata": {},
     "output_type": "execute_result"
    }
   ],
   "source": [
    "df.count() #missing 99 counties' income value"
   ]
  },
  {
   "cell_type": "code",
   "execution_count": 53,
   "id": "e82bd4f1",
   "metadata": {
    "collapsed": true
   },
   "outputs": [
    {
     "name": "stdout",
     "output_type": "stream",
     "text": [
      "0 \t RegionID \t\t\t <class 'numpy.int64'>\n",
      "1 \t SizeRank \t\t\t <class 'numpy.int64'>\n",
      "2 \t RegionName \t\t\t <class 'str'>\n",
      "3 \t RegionType \t\t\t <class 'str'>\n",
      "4 \t StateName \t\t\t <class 'str'>\n",
      "5 \t State \t\t\t <class 'str'>\n",
      "6 \t Metro \t\t\t <class 'str'>\n",
      "7 \t StateCodeFIPS \t\t\t <class 'numpy.int64'>\n",
      "8 \t MunicipalCodeFIPS \t\t\t <class 'numpy.int64'>\n",
      "9 \t 2000-01-31 \t\t\t <class 'numpy.float64'>\n",
      "10 \t 2000-02-29 \t\t\t <class 'numpy.float64'>\n",
      "11 \t 2000-03-31 \t\t\t <class 'numpy.float64'>\n",
      "12 \t 2000-04-30 \t\t\t <class 'numpy.float64'>\n",
      "13 \t 2000-05-31 \t\t\t <class 'numpy.float64'>\n",
      "14 \t 2000-06-30 \t\t\t <class 'numpy.float64'>\n",
      "15 \t 2000-07-31 \t\t\t <class 'numpy.float64'>\n",
      "16 \t 2000-08-31 \t\t\t <class 'numpy.float64'>\n",
      "17 \t 2000-09-30 \t\t\t <class 'numpy.float64'>\n",
      "18 \t 2000-10-31 \t\t\t <class 'numpy.float64'>\n",
      "19 \t 2000-11-30 \t\t\t <class 'numpy.float64'>\n",
      "20 \t 2000-12-31 \t\t\t <class 'numpy.float64'>\n",
      "21 \t 2001-01-31 \t\t\t <class 'numpy.float64'>\n",
      "22 \t 2001-02-28 \t\t\t <class 'numpy.float64'>\n",
      "23 \t 2001-03-31 \t\t\t <class 'numpy.float64'>\n",
      "24 \t 2001-04-30 \t\t\t <class 'numpy.float64'>\n",
      "25 \t 2001-05-31 \t\t\t <class 'numpy.float64'>\n",
      "26 \t 2001-06-30 \t\t\t <class 'numpy.float64'>\n",
      "27 \t 2001-07-31 \t\t\t <class 'numpy.float64'>\n",
      "28 \t 2001-08-31 \t\t\t <class 'numpy.float64'>\n",
      "29 \t 2001-09-30 \t\t\t <class 'numpy.float64'>\n",
      "30 \t 2001-10-31 \t\t\t <class 'numpy.float64'>\n",
      "31 \t 2001-11-30 \t\t\t <class 'numpy.float64'>\n",
      "32 \t 2001-12-31 \t\t\t <class 'numpy.float64'>\n",
      "33 \t 2002-01-31 \t\t\t <class 'numpy.float64'>\n",
      "34 \t 2002-02-28 \t\t\t <class 'numpy.float64'>\n",
      "35 \t 2002-03-31 \t\t\t <class 'numpy.float64'>\n",
      "36 \t 2002-04-30 \t\t\t <class 'numpy.float64'>\n",
      "37 \t 2002-05-31 \t\t\t <class 'numpy.float64'>\n",
      "38 \t 2002-06-30 \t\t\t <class 'numpy.float64'>\n",
      "39 \t 2002-07-31 \t\t\t <class 'numpy.float64'>\n",
      "40 \t 2002-08-31 \t\t\t <class 'numpy.float64'>\n",
      "41 \t 2002-09-30 \t\t\t <class 'numpy.float64'>\n",
      "42 \t 2002-10-31 \t\t\t <class 'numpy.float64'>\n",
      "43 \t 2002-11-30 \t\t\t <class 'numpy.float64'>\n",
      "44 \t 2002-12-31 \t\t\t <class 'numpy.float64'>\n",
      "45 \t 2003-01-31 \t\t\t <class 'numpy.float64'>\n",
      "46 \t 2003-02-28 \t\t\t <class 'numpy.float64'>\n",
      "47 \t 2003-03-31 \t\t\t <class 'numpy.float64'>\n",
      "48 \t 2003-04-30 \t\t\t <class 'numpy.float64'>\n",
      "49 \t 2003-05-31 \t\t\t <class 'numpy.float64'>\n",
      "50 \t 2003-06-30 \t\t\t <class 'numpy.float64'>\n",
      "51 \t 2003-07-31 \t\t\t <class 'numpy.float64'>\n",
      "52 \t 2003-08-31 \t\t\t <class 'numpy.float64'>\n",
      "53 \t 2003-09-30 \t\t\t <class 'numpy.float64'>\n",
      "54 \t 2003-10-31 \t\t\t <class 'numpy.float64'>\n",
      "55 \t 2003-11-30 \t\t\t <class 'numpy.float64'>\n",
      "56 \t 2003-12-31 \t\t\t <class 'numpy.float64'>\n",
      "57 \t 2004-01-31 \t\t\t <class 'numpy.float64'>\n",
      "58 \t 2004-02-29 \t\t\t <class 'numpy.float64'>\n",
      "59 \t 2004-03-31 \t\t\t <class 'numpy.float64'>\n",
      "60 \t 2004-04-30 \t\t\t <class 'numpy.float64'>\n",
      "61 \t 2004-05-31 \t\t\t <class 'numpy.float64'>\n",
      "62 \t 2004-06-30 \t\t\t <class 'numpy.float64'>\n",
      "63 \t 2004-07-31 \t\t\t <class 'numpy.float64'>\n",
      "64 \t 2004-08-31 \t\t\t <class 'numpy.float64'>\n",
      "65 \t 2004-09-30 \t\t\t <class 'numpy.float64'>\n",
      "66 \t 2004-10-31 \t\t\t <class 'numpy.float64'>\n",
      "67 \t 2004-11-30 \t\t\t <class 'numpy.float64'>\n",
      "68 \t 2004-12-31 \t\t\t <class 'numpy.float64'>\n",
      "69 \t 2005-01-31 \t\t\t <class 'numpy.float64'>\n",
      "70 \t 2005-02-28 \t\t\t <class 'numpy.float64'>\n",
      "71 \t 2005-03-31 \t\t\t <class 'numpy.float64'>\n",
      "72 \t 2005-04-30 \t\t\t <class 'numpy.float64'>\n",
      "73 \t 2005-05-31 \t\t\t <class 'numpy.float64'>\n",
      "74 \t 2005-06-30 \t\t\t <class 'numpy.float64'>\n",
      "75 \t 2005-07-31 \t\t\t <class 'numpy.float64'>\n",
      "76 \t 2005-08-31 \t\t\t <class 'numpy.float64'>\n",
      "77 \t 2005-09-30 \t\t\t <class 'numpy.float64'>\n",
      "78 \t 2005-10-31 \t\t\t <class 'numpy.float64'>\n",
      "79 \t 2005-11-30 \t\t\t <class 'numpy.float64'>\n",
      "80 \t 2005-12-31 \t\t\t <class 'numpy.float64'>\n",
      "81 \t 2006-01-31 \t\t\t <class 'numpy.float64'>\n",
      "82 \t 2006-02-28 \t\t\t <class 'numpy.float64'>\n",
      "83 \t 2006-03-31 \t\t\t <class 'numpy.float64'>\n",
      "84 \t 2006-04-30 \t\t\t <class 'numpy.float64'>\n",
      "85 \t 2006-05-31 \t\t\t <class 'numpy.float64'>\n",
      "86 \t 2006-06-30 \t\t\t <class 'numpy.float64'>\n",
      "87 \t 2006-07-31 \t\t\t <class 'numpy.float64'>\n",
      "88 \t 2006-08-31 \t\t\t <class 'numpy.float64'>\n",
      "89 \t 2006-09-30 \t\t\t <class 'numpy.float64'>\n",
      "90 \t 2006-10-31 \t\t\t <class 'numpy.float64'>\n",
      "91 \t 2006-11-30 \t\t\t <class 'numpy.float64'>\n",
      "92 \t 2006-12-31 \t\t\t <class 'numpy.float64'>\n",
      "93 \t 2007-01-31 \t\t\t <class 'numpy.float64'>\n",
      "94 \t 2007-02-28 \t\t\t <class 'numpy.float64'>\n",
      "95 \t 2007-03-31 \t\t\t <class 'numpy.float64'>\n",
      "96 \t 2007-04-30 \t\t\t <class 'numpy.float64'>\n",
      "97 \t 2007-05-31 \t\t\t <class 'numpy.float64'>\n",
      "98 \t 2007-06-30 \t\t\t <class 'numpy.float64'>\n",
      "99 \t 2007-07-31 \t\t\t <class 'numpy.float64'>\n",
      "100 \t 2007-08-31 \t\t\t <class 'numpy.float64'>\n",
      "101 \t 2007-09-30 \t\t\t <class 'numpy.float64'>\n",
      "102 \t 2007-10-31 \t\t\t <class 'numpy.float64'>\n",
      "103 \t 2007-11-30 \t\t\t <class 'numpy.float64'>\n",
      "104 \t 2007-12-31 \t\t\t <class 'numpy.float64'>\n",
      "105 \t 2008-01-31 \t\t\t <class 'numpy.float64'>\n",
      "106 \t 2008-02-29 \t\t\t <class 'numpy.float64'>\n",
      "107 \t 2008-03-31 \t\t\t <class 'numpy.float64'>\n",
      "108 \t 2008-04-30 \t\t\t <class 'numpy.float64'>\n",
      "109 \t 2008-05-31 \t\t\t <class 'numpy.float64'>\n",
      "110 \t 2008-06-30 \t\t\t <class 'numpy.float64'>\n",
      "111 \t 2008-07-31 \t\t\t <class 'numpy.float64'>\n",
      "112 \t 2008-08-31 \t\t\t <class 'numpy.float64'>\n",
      "113 \t 2008-09-30 \t\t\t <class 'numpy.float64'>\n",
      "114 \t 2008-10-31 \t\t\t <class 'numpy.float64'>\n",
      "115 \t 2008-11-30 \t\t\t <class 'numpy.float64'>\n",
      "116 \t 2008-12-31 \t\t\t <class 'numpy.float64'>\n",
      "117 \t 2009-01-31 \t\t\t <class 'numpy.float64'>\n",
      "118 \t 2009-02-28 \t\t\t <class 'numpy.float64'>\n",
      "119 \t 2009-03-31 \t\t\t <class 'numpy.float64'>\n",
      "120 \t 2009-04-30 \t\t\t <class 'numpy.float64'>\n",
      "121 \t 2009-05-31 \t\t\t <class 'numpy.float64'>\n",
      "122 \t 2009-06-30 \t\t\t <class 'numpy.float64'>\n",
      "123 \t 2009-07-31 \t\t\t <class 'numpy.float64'>\n",
      "124 \t 2009-08-31 \t\t\t <class 'numpy.float64'>\n",
      "125 \t 2009-09-30 \t\t\t <class 'numpy.float64'>\n",
      "126 \t 2009-10-31 \t\t\t <class 'numpy.float64'>\n",
      "127 \t 2009-11-30 \t\t\t <class 'numpy.float64'>\n",
      "128 \t 2009-12-31 \t\t\t <class 'numpy.float64'>\n",
      "129 \t 2010-01-31 \t\t\t <class 'numpy.float64'>\n",
      "130 \t 2010-02-28 \t\t\t <class 'numpy.float64'>\n",
      "131 \t 2010-03-31 \t\t\t <class 'numpy.float64'>\n",
      "132 \t 2010-04-30 \t\t\t <class 'numpy.float64'>\n",
      "133 \t 2010-05-31 \t\t\t <class 'numpy.float64'>\n",
      "134 \t 2010-06-30 \t\t\t <class 'numpy.float64'>\n",
      "135 \t 2010-07-31 \t\t\t <class 'numpy.float64'>\n",
      "136 \t 2010-08-31 \t\t\t <class 'numpy.float64'>\n",
      "137 \t 2010-09-30 \t\t\t <class 'numpy.float64'>\n",
      "138 \t 2010-10-31 \t\t\t <class 'numpy.float64'>\n",
      "139 \t 2010-11-30 \t\t\t <class 'numpy.float64'>\n",
      "140 \t 2010-12-31 \t\t\t <class 'numpy.float64'>\n",
      "141 \t 2011-01-31 \t\t\t <class 'numpy.float64'>\n",
      "142 \t 2011-02-28 \t\t\t <class 'numpy.float64'>\n",
      "143 \t 2011-03-31 \t\t\t <class 'numpy.float64'>\n",
      "144 \t 2011-04-30 \t\t\t <class 'numpy.float64'>\n",
      "145 \t 2011-05-31 \t\t\t <class 'numpy.float64'>\n",
      "146 \t 2011-06-30 \t\t\t <class 'numpy.float64'>\n",
      "147 \t 2011-07-31 \t\t\t <class 'numpy.float64'>\n",
      "148 \t 2011-08-31 \t\t\t <class 'numpy.float64'>\n",
      "149 \t 2011-09-30 \t\t\t <class 'numpy.float64'>\n",
      "150 \t 2011-10-31 \t\t\t <class 'numpy.float64'>\n",
      "151 \t 2011-11-30 \t\t\t <class 'numpy.float64'>\n",
      "152 \t 2011-12-31 \t\t\t <class 'numpy.float64'>\n",
      "153 \t 2012-01-31 \t\t\t <class 'numpy.float64'>\n",
      "154 \t 2012-02-29 \t\t\t <class 'numpy.float64'>\n",
      "155 \t 2012-03-31 \t\t\t <class 'numpy.float64'>\n",
      "156 \t 2012-04-30 \t\t\t <class 'numpy.float64'>\n",
      "157 \t 2012-05-31 \t\t\t <class 'numpy.float64'>\n",
      "158 \t 2012-06-30 \t\t\t <class 'numpy.float64'>\n",
      "159 \t 2012-07-31 \t\t\t <class 'numpy.float64'>\n",
      "160 \t 2012-08-31 \t\t\t <class 'numpy.float64'>\n",
      "161 \t 2012-09-30 \t\t\t <class 'numpy.float64'>\n",
      "162 \t 2012-10-31 \t\t\t <class 'numpy.float64'>\n",
      "163 \t 2012-11-30 \t\t\t <class 'numpy.float64'>\n",
      "164 \t 2012-12-31 \t\t\t <class 'numpy.float64'>\n",
      "165 \t 2013-01-31 \t\t\t <class 'numpy.float64'>\n",
      "166 \t 2013-02-28 \t\t\t <class 'numpy.float64'>\n",
      "167 \t 2013-03-31 \t\t\t <class 'numpy.float64'>\n",
      "168 \t 2013-04-30 \t\t\t <class 'numpy.float64'>\n",
      "169 \t 2013-05-31 \t\t\t <class 'numpy.float64'>\n",
      "170 \t 2013-06-30 \t\t\t <class 'numpy.float64'>\n",
      "171 \t 2013-07-31 \t\t\t <class 'numpy.float64'>\n",
      "172 \t 2013-08-31 \t\t\t <class 'numpy.float64'>\n",
      "173 \t 2013-09-30 \t\t\t <class 'numpy.float64'>\n",
      "174 \t 2013-10-31 \t\t\t <class 'numpy.float64'>\n",
      "175 \t 2013-11-30 \t\t\t <class 'numpy.float64'>\n",
      "176 \t 2013-12-31 \t\t\t <class 'numpy.float64'>\n",
      "177 \t 2014-01-31 \t\t\t <class 'numpy.float64'>\n",
      "178 \t 2014-02-28 \t\t\t <class 'numpy.float64'>\n",
      "179 \t 2014-03-31 \t\t\t <class 'numpy.float64'>\n",
      "180 \t 2014-04-30 \t\t\t <class 'numpy.float64'>\n",
      "181 \t 2014-05-31 \t\t\t <class 'numpy.float64'>\n",
      "182 \t 2014-06-30 \t\t\t <class 'numpy.float64'>\n",
      "183 \t 2014-07-31 \t\t\t <class 'numpy.float64'>\n",
      "184 \t 2014-08-31 \t\t\t <class 'numpy.float64'>\n",
      "185 \t 2014-09-30 \t\t\t <class 'numpy.float64'>\n",
      "186 \t 2014-10-31 \t\t\t <class 'numpy.float64'>\n",
      "187 \t 2014-11-30 \t\t\t <class 'numpy.float64'>\n",
      "188 \t 2014-12-31 \t\t\t <class 'numpy.float64'>\n",
      "189 \t 2015-01-31 \t\t\t <class 'numpy.float64'>\n",
      "190 \t 2015-02-28 \t\t\t <class 'numpy.float64'>\n",
      "191 \t 2015-03-31 \t\t\t <class 'numpy.float64'>\n",
      "192 \t 2015-04-30 \t\t\t <class 'numpy.float64'>\n",
      "193 \t 2015-05-31 \t\t\t <class 'numpy.float64'>\n",
      "194 \t 2015-06-30 \t\t\t <class 'numpy.float64'>\n",
      "195 \t 2015-07-31 \t\t\t <class 'numpy.float64'>\n",
      "196 \t 2015-08-31 \t\t\t <class 'numpy.float64'>\n",
      "197 \t 2015-09-30 \t\t\t <class 'numpy.float64'>\n",
      "198 \t 2015-10-31 \t\t\t <class 'numpy.float64'>\n",
      "199 \t 2015-11-30 \t\t\t <class 'numpy.float64'>\n",
      "200 \t 2015-12-31 \t\t\t <class 'numpy.float64'>\n",
      "201 \t 2016-01-31 \t\t\t <class 'numpy.float64'>\n",
      "202 \t 2016-02-29 \t\t\t <class 'numpy.float64'>\n",
      "203 \t 2016-03-31 \t\t\t <class 'numpy.float64'>\n",
      "204 \t 2016-04-30 \t\t\t <class 'numpy.float64'>\n",
      "205 \t 2016-05-31 \t\t\t <class 'numpy.float64'>\n",
      "206 \t 2016-06-30 \t\t\t <class 'numpy.float64'>\n",
      "207 \t 2016-07-31 \t\t\t <class 'numpy.float64'>\n",
      "208 \t 2016-08-31 \t\t\t <class 'numpy.float64'>\n",
      "209 \t 2016-09-30 \t\t\t <class 'numpy.float64'>\n",
      "210 \t 2016-10-31 \t\t\t <class 'numpy.float64'>\n",
      "211 \t 2016-11-30 \t\t\t <class 'numpy.float64'>\n",
      "212 \t 2016-12-31 \t\t\t <class 'numpy.float64'>\n",
      "213 \t 2017-01-31 \t\t\t <class 'numpy.float64'>\n",
      "214 \t 2017-02-28 \t\t\t <class 'numpy.float64'>\n",
      "215 \t 2017-03-31 \t\t\t <class 'numpy.float64'>\n",
      "216 \t 2017-04-30 \t\t\t <class 'numpy.float64'>\n",
      "217 \t 2017-05-31 \t\t\t <class 'numpy.float64'>\n",
      "218 \t 2017-06-30 \t\t\t <class 'numpy.float64'>\n",
      "219 \t 2017-07-31 \t\t\t <class 'numpy.float64'>\n",
      "220 \t 2017-08-31 \t\t\t <class 'numpy.float64'>\n",
      "221 \t 2017-09-30 \t\t\t <class 'numpy.float64'>\n",
      "222 \t 2017-10-31 \t\t\t <class 'numpy.float64'>\n",
      "223 \t 2017-11-30 \t\t\t <class 'numpy.float64'>\n",
      "224 \t 2017-12-31 \t\t\t <class 'numpy.float64'>\n",
      "225 \t 2018-01-31 \t\t\t <class 'numpy.float64'>\n",
      "226 \t 2018-02-28 \t\t\t <class 'numpy.float64'>\n",
      "227 \t 2018-03-31 \t\t\t <class 'numpy.float64'>\n",
      "228 \t 2018-04-30 \t\t\t <class 'numpy.float64'>\n",
      "229 \t 2018-05-31 \t\t\t <class 'numpy.float64'>\n",
      "230 \t 2018-06-30 \t\t\t <class 'numpy.float64'>\n",
      "231 \t 2018-07-31 \t\t\t <class 'numpy.float64'>\n",
      "232 \t 2018-08-31 \t\t\t <class 'numpy.float64'>\n",
      "233 \t 2018-09-30 \t\t\t <class 'numpy.float64'>\n",
      "234 \t 2018-10-31 \t\t\t <class 'numpy.float64'>\n",
      "235 \t 2018-11-30 \t\t\t <class 'numpy.float64'>\n",
      "236 \t 2018-12-31 \t\t\t <class 'numpy.float64'>\n",
      "237 \t 2019-01-31 \t\t\t <class 'numpy.float64'>\n",
      "238 \t 2019-02-28 \t\t\t <class 'numpy.float64'>\n",
      "239 \t 2019-03-31 \t\t\t <class 'numpy.float64'>\n",
      "240 \t 2019-04-30 \t\t\t <class 'numpy.float64'>\n",
      "241 \t 2019-05-31 \t\t\t <class 'numpy.float64'>\n",
      "242 \t 2019-06-30 \t\t\t <class 'numpy.float64'>\n",
      "243 \t 2019-07-31 \t\t\t <class 'numpy.float64'>\n",
      "244 \t 2019-08-31 \t\t\t <class 'numpy.float64'>\n",
      "245 \t 2019-09-30 \t\t\t <class 'numpy.float64'>\n",
      "246 \t 2019-10-31 \t\t\t <class 'numpy.float64'>\n",
      "247 \t 2019-11-30 \t\t\t <class 'numpy.float64'>\n",
      "248 \t 2019-12-31 \t\t\t <class 'numpy.float64'>\n",
      "249 \t 2020-01-31 \t\t\t <class 'numpy.float64'>\n",
      "250 \t 2020-02-29 \t\t\t <class 'numpy.float64'>\n",
      "251 \t 2020-03-31 \t\t\t <class 'numpy.float64'>\n",
      "252 \t 2020-04-30 \t\t\t <class 'numpy.float64'>\n",
      "253 \t 2020-05-31 \t\t\t <class 'numpy.float64'>\n",
      "254 \t 2020-06-30 \t\t\t <class 'numpy.float64'>\n",
      "255 \t 2020-07-31 \t\t\t <class 'numpy.float64'>\n",
      "256 \t 2020-08-31 \t\t\t <class 'numpy.float64'>\n",
      "257 \t 2020-09-30 \t\t\t <class 'numpy.float64'>\n",
      "258 \t 2020-10-31 \t\t\t <class 'numpy.float64'>\n",
      "259 \t 2020-11-30 \t\t\t <class 'numpy.float64'>\n",
      "260 \t 2020-12-31 \t\t\t <class 'numpy.float64'>\n",
      "261 \t 2021-01-31 \t\t\t <class 'numpy.float64'>\n",
      "262 \t 2021-02-28 \t\t\t <class 'numpy.float64'>\n",
      "263 \t 2021-03-31 \t\t\t <class 'numpy.float64'>\n",
      "264 \t 2021-04-30 \t\t\t <class 'numpy.float64'>\n",
      "265 \t 2021-05-31 \t\t\t <class 'numpy.float64'>\n",
      "266 \t 2021-06-30 \t\t\t <class 'numpy.float64'>\n",
      "267 \t 2021-07-31 \t\t\t <class 'numpy.float64'>\n",
      "268 \t 2021-08-31 \t\t\t <class 'numpy.float64'>\n",
      "269 \t 2021-09-30 \t\t\t <class 'numpy.float64'>\n",
      "270 \t inc_2015 \t\t\t <class 'numpy.int64'>\n",
      "271 \t inc_2016 \t\t\t <class 'numpy.int64'>\n",
      "272 \t inc_2017 \t\t\t <class 'numpy.int64'>\n",
      "273 \t inc_2018 \t\t\t <class 'numpy.int64'>\n",
      "274 \t inc_2019 \t\t\t <class 'numpy.int64'>\n"
     ]
    }
   ],
   "source": [
    "feature_names = df.columns\n",
    "for i in range(len(feature_names)):\n",
    "    print(str(i), \"\\t\", str(feature_names[i]),\"\\t\\t\\t\", str(type(df.iloc[0,i])))"
   ]
  },
  {
   "cell_type": "markdown",
   "id": "8d1c52b1",
   "metadata": {},
   "source": [
    "# Data Visualization"
   ]
  },
  {
   "cell_type": "markdown",
   "id": "e56efc5d",
   "metadata": {},
   "source": [
    "### Monthly average price trend"
   ]
  },
  {
   "cell_type": "code",
   "execution_count": 42,
   "id": "17c94311",
   "metadata": {},
   "outputs": [
    {
     "name": "stderr",
     "output_type": "stream",
     "text": [
      "C:\\Users\\15519\\Anaconda3\\lib\\site-packages\\ipykernel_launcher.py:2: DeprecationWarning: The default dtype for empty Series will be 'object' instead of 'float64' in a future version. Specify a dtype explicitly to silence this warning.\n",
      "  \n"
     ]
    },
    {
     "data": {
      "image/png": "[encoded data removed]",
      "text/plain": [
       "<Figure size 1080x648 with 6 Axes>"
      ]
     },
     "metadata": {
      "needs_background": "light"
     },
     "output_type": "display_data"
    }
   ],
   "source": [
    "#draw 2015-2019 subplot\n",
    "ave_price = pd.Series()\n",
    "for j in [5,6,7,8,9]:\n",
    "    ave_price['201%d'%j] = df.filter(regex='201%d-'%j)\n",
    "\n",
    "fig = plt.figure(figsize=(15, 9))\n",
    "for i in [5,6,7,8,9]:\n",
    "    plt.subplot(2,3,i-4)\n",
    "    mean = []\n",
    "    p = ave_price['201%d'%i]\n",
    "    for col in p.columns:\n",
    "        mean.append(p[col].mean())\n",
    "    plt.plot(mean)\n",
    "    plt.xlim((1,12))\n",
    "    plt.xlabel('month')\n",
    "    plt.ylabel('average price')\n",
    "    plt.title('201%d Monthly Average Price'%i)\n",
    "\n",
    "# draw 2020 subplot\n",
    "plt.subplot(2,3,6)\n",
    "mean = []\n",
    "p = df.filter(regex='2020-')\n",
    "for col in p.columns:\n",
    "    mean.append(p[col].mean())\n",
    "plt.plot(mean)\n",
    "plt.xlim((1,12))\n",
    "plt.xlabel('month')\n",
    "plt.ylabel('average price')\n",
    "plt.title('2020 Monthly Average Price')\n",
    "\n",
    "plt.suptitle('Monthly Average Price 2015-2020', fontsize=18)\n",
    "plt.tight_layout()"
   ]
  },
  {
   "cell_type": "code",
   "execution_count": 48,
   "id": "4f8a8494",
   "metadata": {},
   "outputs": [
    {
     "data": {
      "text/plain": [
       "Index(['RegionID', 'SizeRank', 'RegionName', 'RegionType', 'StateName',\n",
       "       'State', 'Metro', 'StateCodeFIPS', 'MunicipalCodeFIPS', '2000-01-31',\n",
       "       ...\n",
       "       '2021-05-31', '2021-06-30', '2021-07-31', '2021-08-31', '2021-09-30',\n",
       "       '2015', '2016', '2017', '2018', '2019'],\n",
       "      dtype='object', length=275)"
      ]
     },
     "execution_count": 48,
     "metadata": {},
     "output_type": "execute_result"
    }
   ],
   "source": [
    "feature_names"
   ]
  }
 ],
 "metadata": {
  "kernelspec": {
   "display_name": "Python 3 (ipykernel)",
   "language": "python",
   "name": "python3"
  },
  "language_info": {
   "codemirror_mode": {
    "name": "ipython",
    "version": 3
   },
   "file_extension": ".py",
   "mimetype": "text/x-python",
   "name": "python",
   "nbconvert_exporter": "python",
   "pygments_lexer": "ipython3",
   "version": "3.7.0"
  }
 },
 "nbformat": 4,
 "nbformat_minor": 5
}

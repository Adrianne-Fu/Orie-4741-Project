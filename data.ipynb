{
 "cells": [
  {
   "cell_type": "code",
   "execution_count": 220,
   "metadata": {},
   "outputs": [],
   "source": [
    "import pandas as pd\n",
    "import numpy as np\n",
    "import matplotlib.pyplot as plt"
   ]
  },
  {
   "cell_type": "code",
   "execution_count": 221,
   "metadata": {},
   "outputs": [],
   "source": [
    "unemp = pd.read_excel('~/Downloads/Unemployment.xls')\n",
    "housePrice = pd.read_csv('~/Downloads/County.csv')"
   ]
  },
  {
   "cell_type": "code",
   "execution_count": 222,
   "metadata": {},
   "outputs": [],
   "source": [
    "housePrice = housePrice.drop(['RegionID', 'RegionType', 'StateName', 'SizeRank'], axis=1)"
   ]
  },
  {
   "cell_type": "code",
   "execution_count": 223,
   "metadata": {},
   "outputs": [],
   "source": [
    "firstDateCol = 5\n",
    "dates = housePrice.iloc[:, firstDateCol:]\n",
    "otherinfo = housePrice.iloc[:, :firstDateCol]\n",
    "\n",
    "# fill na with previous or next value along the row\n",
    "dates = dates.fillna(method='ffill', axis=1).fillna(method='bfill', axis=1)\n",
    "housePrice = pd.concat([otherinfo, dates], axis=1)"
   ]
  },
  {
   "cell_type": "code",
   "execution_count": 224,
   "metadata": {},
   "outputs": [],
   "source": [
    "# convert date columns into rows\n",
    "housePrice = housePrice.melt(id_vars=[\"RegionName\", \"State\", \"Metro\", \"StateCodeFIPS\", \"MunicipalCodeFIPS\"], \n",
    "            var_name=\"Date\", \n",
    "            value_name=\"ZHVI\")"
   ]
  },
  {
   "cell_type": "code",
   "execution_count": 225,
   "metadata": {},
   "outputs": [],
   "source": [
    "# create ZHVI_prev column\n",
    "housePrice = housePrice.sort_values(['State', 'RegionName', 'Date'])\n",
    "housePrice['ZHVI_prev'] = np.roll(housePrice['ZHVI'], 1)\n",
    "housePrice = housePrice[housePrice.Date != '2000-01-31']"
   ]
  },
  {
   "cell_type": "code",
   "execution_count": 204,
   "metadata": {},
   "outputs": [],
   "source": [
    "housePrice.to_csv('/Users/guannanliu/Documents/orie5741/Orie-4741-Project/data/housePrice.csv', index = False, header=True)"
   ]
  }
 ],
 "metadata": {
  "interpreter": {
   "hash": "52ead971c622ef34a677d9c0305a4b1b69c452fd955debd4f4081005ee793fba"
  },
  "kernelspec": {
   "display_name": "Python 3.8.8 64-bit ('base': conda)",
   "name": "python3"
  },
  "language_info": {
   "codemirror_mode": {
    "name": "ipython",
    "version": 3
   },
   "file_extension": ".py",
   "mimetype": "text/x-python",
   "name": "python",
   "nbconvert_exporter": "python",
   "pygments_lexer": "ipython3",
   "version": "3.8.8"
  },
  "orig_nbformat": 4
 },
 "nbformat": 4,
 "nbformat_minor": 2
}

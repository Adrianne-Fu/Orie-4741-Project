{
 "cells": [
  {
   "cell_type": "code",
   "execution_count": 60,
   "metadata": {},
   "outputs": [],
   "source": [
    "import pandas as pd\n",
    "import numpy as np\n",
    "import matplotlib.pyplot as plt"
   ]
  },
  {
   "cell_type": "markdown",
   "metadata": {},
   "source": [
    "Deal with housePrice data"
   ]
  },
  {
   "cell_type": "code",
   "execution_count": 61,
   "metadata": {},
   "outputs": [],
   "source": [
    "housePrice = pd.read_csv('~/Downloads/County.csv')"
   ]
  },
  {
   "cell_type": "code",
   "execution_count": 62,
   "metadata": {},
   "outputs": [],
   "source": [
    "housePrice = housePrice.drop(['RegionID', 'RegionType', 'StateName', 'SizeRank'], axis=1)\n",
    "# drop rows with too many NAs\n",
    "housePrice = housePrice.dropna(thresh=housePrice.shape[1]-24)"
   ]
  },
  {
   "cell_type": "code",
   "execution_count": 63,
   "metadata": {},
   "outputs": [],
   "source": [
    "firstDateCol = 5\n",
    "dates = housePrice.iloc[:, firstDateCol:]\n",
    "otherinfo = housePrice.iloc[:, :firstDateCol]\n",
    "\n",
    "# fill na with previous or next value along the row\n",
    "dates = dates.fillna(method='ffill', axis=1).fillna(method='bfill', axis=1)\n",
    "housePrice = pd.concat([otherinfo, dates], axis=1)"
   ]
  },
  {
   "cell_type": "code",
   "execution_count": 64,
   "metadata": {},
   "outputs": [],
   "source": [
    "# convert date columns into rows\n",
    "housePrice = housePrice.melt(id_vars=[\"RegionName\", \"State\", \"Metro\", \"StateCodeFIPS\", \"MunicipalCodeFIPS\"], \n",
    "            var_name=\"Date\", \n",
    "            value_name=\"ZHVI\")"
   ]
  },
  {
   "cell_type": "code",
   "execution_count": 65,
   "metadata": {},
   "outputs": [],
   "source": [
    "# create ZHVI_prev column\n",
    "housePrice = housePrice.sort_values(['State', 'RegionName', 'Date'])\n",
    "housePrice['ZHVI_prev'] = np.roll(housePrice['ZHVI'], 1)\n",
    "housePrice = housePrice[housePrice.Date != '2000-01-31']"
   ]
  },
  {
   "cell_type": "code",
   "execution_count": 66,
   "metadata": {},
   "outputs": [],
   "source": [
    "#housePrice.to_csv('/Users/guannanliu/Documents/orie5741/Orie-4741-Project/data/housePrice.csv', index = False, header=True)"
   ]
  },
  {
   "cell_type": "markdown",
   "metadata": {},
   "source": [
    "Deal with unemployment data"
   ]
  },
  {
   "cell_type": "code",
   "execution_count": 67,
   "metadata": {},
   "outputs": [],
   "source": [
    "unemp = pd.read_excel('~/Downloads/Unemployment.xls')"
   ]
  },
  {
   "cell_type": "code",
   "execution_count": 68,
   "metadata": {},
   "outputs": [],
   "source": [
    "unemp[['RegionName', 'State']] = unemp['Region Name'].str.split(\", \", 1, expand=True)\n",
    "unemp = unemp.drop(['Series ID', 'Region Name'], axis=1)"
   ]
  },
  {
   "cell_type": "code",
   "execution_count": 69,
   "metadata": {},
   "outputs": [],
   "source": [
    "# change column order\n",
    "cols = unemp.columns.tolist()\n",
    "cols = cols[-2:] + cols[:-2]\n",
    "unemp = unemp[cols]"
   ]
  },
  {
   "cell_type": "code",
   "execution_count": 70,
   "metadata": {},
   "outputs": [],
   "source": [
    "firstDateCol = 3\n",
    "dates = unemp.iloc[:, firstDateCol:]\n",
    "otherinfo = unemp.iloc[:, :firstDateCol]\n",
    "\n",
    "# fill na with previous or next value along the row\n",
    "dates = dates.fillna(method='ffill', axis=1).fillna(method='bfill', axis=1)\n",
    "unemp = pd.concat([otherinfo, dates], axis=1)"
   ]
  },
  {
   "cell_type": "code",
   "execution_count": 71,
   "metadata": {},
   "outputs": [],
   "source": [
    "unemp = unemp.melt(id_vars=['RegionName', 'State', 'Region Code'],\n",
    "                    var_name='Date',\n",
    "                    value_name='UnemploymentRate')"
   ]
  },
  {
   "cell_type": "code",
   "execution_count": 72,
   "metadata": {},
   "outputs": [],
   "source": [
    "unemp = unemp.sort_values(['State', 'RegionName'])"
   ]
  },
  {
   "cell_type": "code",
   "execution_count": 73,
   "metadata": {},
   "outputs": [],
   "source": [
    "#unemp.to_csv('/Users/guannanliu/Documents/orie5741/Orie-4741-Project/data/Unemployment.csv', index = False, header=True)"
   ]
  },
  {
   "cell_type": "markdown",
   "metadata": {},
   "source": [
    "Hospital data"
   ]
  },
  {
   "cell_type": "code",
   "execution_count": 74,
   "metadata": {},
   "outputs": [],
   "source": [
    "hospital = pd.read_csv('~/Downloads/Hospital.csv')"
   ]
  },
  {
   "cell_type": "code",
   "execution_count": 75,
   "metadata": {},
   "outputs": [],
   "source": [
    "hospital = hospital[['State', 'County Name', 'Hospital overall rating']]\n",
    "hospital = hospital[hospital['Hospital overall rating'] != 'Not Available']\n",
    "hospital = hospital.dropna()\n",
    "hospital['Hospital overall rating'] = hospital['Hospital overall rating'].astype(int)"
   ]
  },
  {
   "cell_type": "code",
   "execution_count": 76,
   "metadata": {},
   "outputs": [
    {
     "data": {
      "text/html": [
       "<div>\n",
       "<style scoped>\n",
       "    .dataframe tbody tr th:only-of-type {\n",
       "        vertical-align: middle;\n",
       "    }\n",
       "\n",
       "    .dataframe tbody tr th {\n",
       "        vertical-align: top;\n",
       "    }\n",
       "\n",
       "    .dataframe thead th {\n",
       "        text-align: right;\n",
       "    }\n",
       "</style>\n",
       "<table border=\"1\" class=\"dataframe\">\n",
       "  <thead>\n",
       "    <tr style=\"text-align: right;\">\n",
       "      <th></th>\n",
       "      <th>State</th>\n",
       "      <th>County Name</th>\n",
       "      <th>#hospital</th>\n",
       "      <th>hospital_rating</th>\n",
       "    </tr>\n",
       "  </thead>\n",
       "  <tbody>\n",
       "    <tr>\n",
       "      <th>0</th>\n",
       "      <td>AK</td>\n",
       "      <td>ANCHORAGE</td>\n",
       "      <td>3</td>\n",
       "      <td>2.666667</td>\n",
       "    </tr>\n",
       "    <tr>\n",
       "      <th>1</th>\n",
       "      <td>AK</td>\n",
       "      <td>BETHEL</td>\n",
       "      <td>1</td>\n",
       "      <td>3.000000</td>\n",
       "    </tr>\n",
       "    <tr>\n",
       "      <th>2</th>\n",
       "      <td>AK</td>\n",
       "      <td>FAIRBANKS NORTH STAR</td>\n",
       "      <td>1</td>\n",
       "      <td>3.000000</td>\n",
       "    </tr>\n",
       "    <tr>\n",
       "      <th>3</th>\n",
       "      <td>AK</td>\n",
       "      <td>JUNEAU</td>\n",
       "      <td>1</td>\n",
       "      <td>3.000000</td>\n",
       "    </tr>\n",
       "    <tr>\n",
       "      <th>4</th>\n",
       "      <td>AK</td>\n",
       "      <td>KETCHIKAN GATEWAY</td>\n",
       "      <td>1</td>\n",
       "      <td>3.000000</td>\n",
       "    </tr>\n",
       "    <tr>\n",
       "      <th>...</th>\n",
       "      <td>...</td>\n",
       "      <td>...</td>\n",
       "      <td>...</td>\n",
       "      <td>...</td>\n",
       "    </tr>\n",
       "    <tr>\n",
       "      <th>1897</th>\n",
       "      <td>WY</td>\n",
       "      <td>SHERIDAN</td>\n",
       "      <td>1</td>\n",
       "      <td>3.000000</td>\n",
       "    </tr>\n",
       "    <tr>\n",
       "      <th>1898</th>\n",
       "      <td>WY</td>\n",
       "      <td>SWEETWATER</td>\n",
       "      <td>1</td>\n",
       "      <td>2.000000</td>\n",
       "    </tr>\n",
       "    <tr>\n",
       "      <th>1899</th>\n",
       "      <td>WY</td>\n",
       "      <td>TETON</td>\n",
       "      <td>1</td>\n",
       "      <td>4.000000</td>\n",
       "    </tr>\n",
       "    <tr>\n",
       "      <th>1900</th>\n",
       "      <td>WY</td>\n",
       "      <td>UINTA</td>\n",
       "      <td>1</td>\n",
       "      <td>3.000000</td>\n",
       "    </tr>\n",
       "    <tr>\n",
       "      <th>1901</th>\n",
       "      <td>WY</td>\n",
       "      <td>WASHAKIE</td>\n",
       "      <td>1</td>\n",
       "      <td>3.000000</td>\n",
       "    </tr>\n",
       "  </tbody>\n",
       "</table>\n",
       "<p>1902 rows × 4 columns</p>\n",
       "</div>"
      ],
      "text/plain": [
       "     State           County Name  #hospital  hospital_rating\n",
       "0       AK             ANCHORAGE          3         2.666667\n",
       "1       AK                BETHEL          1         3.000000\n",
       "2       AK  FAIRBANKS NORTH STAR          1         3.000000\n",
       "3       AK                JUNEAU          1         3.000000\n",
       "4       AK     KETCHIKAN GATEWAY          1         3.000000\n",
       "...    ...                   ...        ...              ...\n",
       "1897    WY              SHERIDAN          1         3.000000\n",
       "1898    WY            SWEETWATER          1         2.000000\n",
       "1899    WY                 TETON          1         4.000000\n",
       "1900    WY                 UINTA          1         3.000000\n",
       "1901    WY              WASHAKIE          1         3.000000\n",
       "\n",
       "[1902 rows x 4 columns]"
      ]
     },
     "execution_count": 76,
     "metadata": {},
     "output_type": "execute_result"
    }
   ],
   "source": [
    "num_hospital = hospital.groupby(['State', 'County Name'])['Hospital overall rating'].count().reset_index(name=\"#hospital\")\n",
    "avg_rating = hospital.groupby(['State', 'County Name'])['Hospital overall rating'].mean().reset_index(name=\"hospital_rating\")\n",
    "\n",
    "hospital = pd.concat([num_hospital, avg_rating.hospital_rating], axis=1)\n",
    "hospital"
   ]
  },
  {
   "cell_type": "code",
   "execution_count": 59,
   "metadata": {},
   "outputs": [],
   "source": [
    "#hospital.to_csv('/Users/guannanliu/Documents/orie5741/Orie-4741-Project/data/Hospital.csv', index=False, header=True)"
   ]
  }
 ],
 "metadata": {
  "interpreter": {
   "hash": "52ead971c622ef34a677d9c0305a4b1b69c452fd955debd4f4081005ee793fba"
  },
  "kernelspec": {
   "display_name": "Python 3.8.8 64-bit ('base': conda)",
   "name": "python3"
  },
  "language_info": {
   "codemirror_mode": {
    "name": "ipython",
    "version": 3
   },
   "file_extension": ".py",
   "mimetype": "text/x-python",
   "name": "python",
   "nbconvert_exporter": "python",
   "pygments_lexer": "ipython3",
   "version": "3.8.8"
  },
  "orig_nbformat": 4
 },
 "nbformat": 4,
 "nbformat_minor": 2
}

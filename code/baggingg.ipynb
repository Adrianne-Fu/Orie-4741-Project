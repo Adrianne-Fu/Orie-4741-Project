{
 "cells": [
  {
   "cell_type": "code",
   "execution_count": 1,
   "metadata": {},
   "outputs": [],
   "source": [
    "import numpy as np\n",
    "import pandas as pd\n",
    "import statsmodels.api as sm\n",
    "from collections import Counter\n",
    "import matplotlib.pyplot as plt\n",
    "pd.set_option('expand_frame_repr',False)\n",
    "from sklearn.linear_model import LinearRegression\n",
    "from sklearn.preprocessing import StandardScaler\n",
    "from sklearn.model_selection import RepeatedKFold\n",
    "from sklearn.model_selection import GridSearchCV\n",
    "from sklearn.ensemble import BaggingRegressor"
   ]
  },
  {
   "cell_type": "code",
   "execution_count": 17,
   "metadata": {},
   "outputs": [],
   "source": [
    "train = pd.read_csv(r'C:\\Users\\lyuli\\Desktop\\Orie-4741-Project\\data\\train.csv')\n",
    "test = pd.read_csv(r'C:\\Users\\lyuli\\Desktop\\Orie-4741-Project\\data\\test.csv')\n",
    "\n",
    "y = ['ZHVI_next']\n",
    "train_x = train.loc[:,~train.columns.isin(y)]\n",
    "train_y = train.loc[:,train.columns.isin(y)]\n",
    "train_y = np.array(train_y).reshape((len(train_y,)))\n",
    "\n",
    "test_x = test.loc[:,~test.columns.isin(y)]\n",
    "test_y = test.loc[:,test.columns.isin(y)]\n",
    "test_y = np.array(test_y).reshape((len(test_y,)))\n"
   ]
  },
  {
   "cell_type": "code",
   "execution_count": 22,
   "metadata": {},
   "outputs": [
    {
     "name": "stdout",
     "output_type": "stream",
     "text": [
      "Best: -83293317.798169 using {'max_samples': 0.5, 'n_estimators': 100}\n",
      "-144105249.719457 (66146556.494117) with: {'max_samples': 0.05, 'n_estimators': 10}\n",
      "-133503439.770145 (63547989.301015) with: {'max_samples': 0.05, 'n_estimators': 100}\n",
      "-134411658.406045 (63081600.700523) with: {'max_samples': 0.05, 'n_estimators': 100}\n",
      "-127297214.522342 (70017215.608034) with: {'max_samples': 0.1, 'n_estimators': 10}\n",
      "-113986938.963029 (62651600.656999) with: {'max_samples': 0.1, 'n_estimators': 100}\n",
      "-113336378.043266 (62944146.434070) with: {'max_samples': 0.1, 'n_estimators': 100}\n",
      "-91992092.190312 (57799576.232737) with: {'max_samples': 0.5, 'n_estimators': 10}\n",
      "-83930354.979862 (46291656.791443) with: {'max_samples': 0.5, 'n_estimators': 100}\n",
      "-83293317.798169 (45795132.636518) with: {'max_samples': 0.5, 'n_estimators': 100}\n"
     ]
    }
   ],
   "source": [
    "model = BaggingRegressor()\n",
    "n_estimators = [10, 100, 100]\n",
    "max_samples = [0.05,0.1,0.5]\n",
    "# define grid search\n",
    "grid = dict(n_estimators=n_estimators,max_samples = max_samples)\n",
    "\n",
    "cv = RepeatedKFold(n_splits=10, n_repeats=3, random_state=1)\n",
    "grid_search = GridSearchCV(estimator=model, param_grid=grid, n_jobs=-1, cv=cv, scoring='neg_mean_squared_error',error_score=0)\n",
    "grid_result = grid_search.fit(train_x, train_y)\n",
    "# summarize results\n",
    "print(\"Best: %f using %s\" % (grid_result.best_score_, grid_result.best_params_))\n",
    "means = grid_result.cv_results_['mean_test_score']\n",
    "stds = grid_result.cv_results_['std_test_score']\n",
    "params = grid_result.cv_results_['params']\n",
    "for mean, stdev, param in zip(means, stds, params):\n",
    "    print(\"%f (%f) with: %r\" % (mean, stdev, param))\n",
    "\n"
   ]
  },
  {
   "cell_type": "code",
   "execution_count": null,
   "metadata": {},
   "outputs": [],
   "source": [
    "# Fit the model again with best set of params from above results\n",
    "best_n_est = 100\n",
    "best_max_sample = 0.5\n",
    "# fit regressor again\n",
    "model = BaggingRegressor(n_estimators = best_n_est,max_samples = best_max_sample)\n",
    "model.fit(train_x,train_y)\n",
    "ypred = model.predict(test_x)"
   ]
  },
  {
   "cell_type": "code",
   "execution_count": 25,
   "metadata": {},
   "outputs": [
    {
     "data": {
      "image/png": "[encoded data removed]",
      "text/plain": [
       "<Figure size 432x288 with 1 Axes>"
      ]
     },
     "metadata": {
      "needs_background": "light"
     },
     "output_type": "display_data"
    }
   ],
   "source": [
    "\n",
    "plt.scatter(ypred,test_y)\n",
    "plt.xlabel('prediction')\n",
    "plt.ylabel('true value')\n",
    "plt.show()\n"
   ]
  },
  {
   "cell_type": "code",
   "execution_count": 26,
   "metadata": {},
   "outputs": [
    {
     "name": "stdout",
     "output_type": "stream",
     "text": [
      "MSE for best set of parameters from grid search: 120048825.30166616\n"
     ]
    }
   ],
   "source": [
    "\n",
    "mse = sum((test_y-ypred)**2)/len(ypred)\n",
    "print('MSE for best set of parameters from grid search:',mse)"
   ]
  },
  {
   "cell_type": "code",
   "execution_count": 28,
   "metadata": {},
   "outputs": [],
   "source": [
    "def trend_accuracy(test_df, pred):\n",
    "    trend = np.sign(test_df.ZHVI_next - test_df.ZHVI)\n",
    "    trend_pred = np.sign(pred - test_df.ZHVI)\n",
    "\n",
    "    return sum(trend == trend_pred)/len(trend)"
   ]
  },
  {
   "cell_type": "code",
   "execution_count": 33,
   "metadata": {},
   "outputs": [
    {
     "data": {
      "text/plain": [
       "0.8426044330775788"
      ]
     },
     "execution_count": 33,
     "metadata": {},
     "output_type": "execute_result"
    }
   ],
   "source": [
    "trend_accuracy(test,ypred)"
   ]
  }
 ],
 "metadata": {
  "interpreter": {
   "hash": "f0227f0aeef134115f3e826bc35eeb47ffadab9e2a64d77d6de531f8e365cbfe"
  },
  "kernelspec": {
   "display_name": "Python 3.7.6 64-bit ('base': conda)",
   "language": "python",
   "name": "python3"
  },
  "language_info": {
   "codemirror_mode": {
    "name": "ipython",
    "version": 3
   },
   "file_extension": ".py",
   "mimetype": "text/x-python",
   "name": "python",
   "nbconvert_exporter": "python",
   "pygments_lexer": "ipython3",
   "version": "3.7.6"
  },
  "orig_nbformat": 4
 },
 "nbformat": 4,
 "nbformat_minor": 2
}
